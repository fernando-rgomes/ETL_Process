{
 "cells": [
  {
   "cell_type": "code",
   "execution_count": 2,
   "id": "ed9794ab-a63f-4ca0-b09a-264476aacdaa",
   "metadata": {},
   "outputs": [],
   "source": [
    "import pandas as pd\n",
    "from sqlalchemy import create_engine"
   ]
  },
  {
   "cell_type": "markdown",
   "id": "2f891c2a-9196-4389-8dd2-9212a11a5ae1",
   "metadata": {},
   "source": [
    "Verificando drivers"
   ]
  },
  {
   "cell_type": "code",
   "execution_count": 3,
   "id": "43c8a27b-0595-4274-973c-b301e3dbd90c",
   "metadata": {},
   "outputs": [
    {
     "name": "stdout",
     "output_type": "stream",
     "text": [
      "SQL Server\n",
      "Microsoft Access Driver (*.mdb, *.accdb)\n",
      "Microsoft Excel Driver (*.xls, *.xlsx, *.xlsm, *.xlsb)\n",
      "Microsoft Access Text Driver (*.txt, *.csv)\n",
      "ODBC Driver 17 for SQL Server\n"
     ]
    }
   ],
   "source": [
    "from pyodbc import drivers\n",
    "for driver in drivers():\n",
    "    print(driver)"
   ]
  },
  {
   "cell_type": "markdown",
   "id": "60570d7b-0fba-45c0-a5e9-f519b02a10a7",
   "metadata": {},
   "source": [
    "Obtendo os dados do arquivo csv"
   ]
  },
  {
   "cell_type": "code",
   "execution_count": 13,
   "id": "ec8b4fe6-0b3f-4ac0-bdc7-cb0405399495",
   "metadata": {},
   "outputs": [
    {
     "data": {
      "text/html": [
       "<div>\n",
       "<style scoped>\n",
       "    .dataframe tbody tr th:only-of-type {\n",
       "        vertical-align: middle;\n",
       "    }\n",
       "\n",
       "    .dataframe tbody tr th {\n",
       "        vertical-align: top;\n",
       "    }\n",
       "\n",
       "    .dataframe thead th {\n",
       "        text-align: right;\n",
       "    }\n",
       "</style>\n",
       "<table border=\"1\" class=\"dataframe\">\n",
       "  <thead>\n",
       "    <tr style=\"text-align: right;\">\n",
       "      <th></th>\n",
       "      <th>data</th>\n",
       "      <th>nome</th>\n",
       "      <th>id</th>\n",
       "      <th>vendas</th>\n",
       "    </tr>\n",
       "  </thead>\n",
       "  <tbody>\n",
       "    <tr>\n",
       "      <th>0</th>\n",
       "      <td>2024-05-20</td>\n",
       "      <td>jackson</td>\n",
       "      <td>7839</td>\n",
       "      <td>4.0</td>\n",
       "    </tr>\n",
       "    <tr>\n",
       "      <th>1</th>\n",
       "      <td>2025-05-08</td>\n",
       "      <td>fatima</td>\n",
       "      <td>7840</td>\n",
       "      <td>5.0</td>\n",
       "    </tr>\n",
       "    <tr>\n",
       "      <th>2</th>\n",
       "      <td>2029-05-22</td>\n",
       "      <td>ivonildo</td>\n",
       "      <td>7841</td>\n",
       "      <td>9.0</td>\n",
       "    </tr>\n",
       "    <tr>\n",
       "      <th>3</th>\n",
       "      <td>2024-05-23</td>\n",
       "      <td>miguel</td>\n",
       "      <td>5842</td>\n",
       "      <td>2.0</td>\n",
       "    </tr>\n",
       "    <tr>\n",
       "      <th>4</th>\n",
       "      <td>2024-05-24</td>\n",
       "      <td>junior</td>\n",
       "      <td>7843</td>\n",
       "      <td>7.0</td>\n",
       "    </tr>\n",
       "    <tr>\n",
       "      <th>5</th>\n",
       "      <td>2024-05-25</td>\n",
       "      <td>alana</td>\n",
       "      <td>5124</td>\n",
       "      <td>3.0</td>\n",
       "    </tr>\n",
       "    <tr>\n",
       "      <th>6</th>\n",
       "      <td>2024-05-26</td>\n",
       "      <td>leo</td>\n",
       "      <td>5851</td>\n",
       "      <td>8.0</td>\n",
       "    </tr>\n",
       "    <tr>\n",
       "      <th>7</th>\n",
       "      <td>2024-05-27</td>\n",
       "      <td>pedro</td>\n",
       "      <td>7846</td>\n",
       "      <td>10.0</td>\n",
       "    </tr>\n",
       "    <tr>\n",
       "      <th>8</th>\n",
       "      <td>NaT</td>\n",
       "      <td>valquiria</td>\n",
       "      <td>6248</td>\n",
       "      <td>NaN</td>\n",
       "    </tr>\n",
       "    <tr>\n",
       "      <th>9</th>\n",
       "      <td>2024-05-29</td>\n",
       "      <td>NaN</td>\n",
       "      <td>6249</td>\n",
       "      <td>2.0</td>\n",
       "    </tr>\n",
       "    <tr>\n",
       "      <th>10</th>\n",
       "      <td>2023-05-30</td>\n",
       "      <td>NaN</td>\n",
       "      <td>7849</td>\n",
       "      <td>1.0</td>\n",
       "    </tr>\n",
       "    <tr>\n",
       "      <th>11</th>\n",
       "      <td>2024-05-31</td>\n",
       "      <td>NaN</td>\n",
       "      <td>7850</td>\n",
       "      <td>1.0</td>\n",
       "    </tr>\n",
       "    <tr>\n",
       "      <th>12</th>\n",
       "      <td>2024-06-01</td>\n",
       "      <td>NaN</td>\n",
       "      <td>7851</td>\n",
       "      <td>1.0</td>\n",
       "    </tr>\n",
       "    <tr>\n",
       "      <th>13</th>\n",
       "      <td>2022-06-02</td>\n",
       "      <td>NaN</td>\n",
       "      <td>7852</td>\n",
       "      <td>1.0</td>\n",
       "    </tr>\n",
       "    <tr>\n",
       "      <th>14</th>\n",
       "      <td>2024-06-03</td>\n",
       "      <td>NaN</td>\n",
       "      <td>7853</td>\n",
       "      <td>1.0</td>\n",
       "    </tr>\n",
       "  </tbody>\n",
       "</table>\n",
       "</div>"
      ],
      "text/plain": [
       "         data       nome    id  vendas\n",
       "0  2024-05-20    jackson  7839     4.0\n",
       "1  2025-05-08     fatima  7840     5.0\n",
       "2  2029-05-22   ivonildo  7841     9.0\n",
       "3  2024-05-23     miguel  5842     2.0\n",
       "4  2024-05-24     junior  7843     7.0\n",
       "5  2024-05-25      alana  5124     3.0\n",
       "6  2024-05-26        leo  5851     8.0\n",
       "7  2024-05-27      pedro  7846    10.0\n",
       "8         NaT  valquiria  6248     NaN\n",
       "9  2024-05-29        NaN  6249     2.0\n",
       "10 2023-05-30        NaN  7849     1.0\n",
       "11 2024-05-31        NaN  7850     1.0\n",
       "12 2024-06-01        NaN  7851     1.0\n",
       "13 2022-06-02        NaN  7852     1.0\n",
       "14 2024-06-03        NaN  7853     1.0"
      ]
     },
     "metadata": {},
     "output_type": "display_data"
    }
   ],
   "source": [
    "dados = pd.read_excel('dados.xlsx')\n",
    "display(dados)"
   ]
  },
  {
   "cell_type": "code",
   "execution_count": null,
   "id": "8621c33b-a207-487b-a8c1-f64ecc1f39c6",
   "metadata": {},
   "outputs": [],
   "source": []
  }
 ],
 "metadata": {
  "kernelspec": {
   "display_name": "Python 3 (ipykernel)",
   "language": "python",
   "name": "python3"
  },
  "language_info": {
   "codemirror_mode": {
    "name": "ipython",
    "version": 3
   },
   "file_extension": ".py",
   "mimetype": "text/x-python",
   "name": "python",
   "nbconvert_exporter": "python",
   "pygments_lexer": "ipython3",
   "version": "3.12.7"
  }
 },
 "nbformat": 4,
 "nbformat_minor": 5
}
